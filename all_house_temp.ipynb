{
 "cells": [
  {
   "cell_type": "code",
   "execution_count": 1,
   "metadata": {},
   "outputs": [
    {
     "ename": "ModuleNotFoundError",
     "evalue": "No module named 'numpy'",
     "output_type": "error",
     "traceback": [
      "\u001b[1;31m---------------------------------------------------------------------------\u001b[0m",
      "\u001b[1;31mModuleNotFoundError\u001b[0m                       Traceback (most recent call last)",
      "Cell \u001b[1;32mIn[1], line 1\u001b[0m\n\u001b[1;32m----> 1\u001b[0m \u001b[38;5;28;01mimport\u001b[39;00m \u001b[38;5;21;01mnumpy\u001b[39;00m \u001b[38;5;28;01mas\u001b[39;00m \u001b[38;5;21;01mnp\u001b[39;00m \n\u001b[0;32m      2\u001b[0m \u001b[38;5;28;01mimport\u001b[39;00m \u001b[38;5;21;01mpandas\u001b[39;00m \u001b[38;5;28;01mas\u001b[39;00m \u001b[38;5;21;01mpd\u001b[39;00m \n\u001b[0;32m      3\u001b[0m \u001b[38;5;28;01mimport\u001b[39;00m \u001b[38;5;21;01mmatplotlib\u001b[39;00m\u001b[38;5;21;01m.\u001b[39;00m\u001b[38;5;21;01mpyplot\u001b[39;00m \u001b[38;5;28;01mas\u001b[39;00m \u001b[38;5;21;01mplt\u001b[39;00m \n",
      "\u001b[1;31mModuleNotFoundError\u001b[0m: No module named 'numpy'"
     ]
    }
   ],
   "source": [
    "import numpy as np \n",
    "import pandas as pd \n",
    "import matplotlib.pyplot as plt \n",
    "import seaborn as sns\n",
    "\n",
    "from datetime import datetime\n",
    "\n",
    "from sklearn.preprocessing import OneHotEncoder\n",
    "from sklearn.linear_model import LinearRegression"
   ]
  },
  {
   "cell_type": "code",
   "execution_count": null,
   "metadata": {},
   "outputs": [],
   "source": [
    "date_to_datetime = lambda row: datetime(row['date'].year,row['date'].month,row['date'].day,row['hour'])\n",
    "\n",
    "# the hour in the weather datasets looks to be from 1 to 24 rather than 0 to 23\n",
    "weather_date_to_datetime = lambda row: datetime(row['date'].year,row['date'].month,row['date'].day,row['hour']-1)\n",
    "\n",
    "def datetime_to_weekend(row):  \n",
    "    if row.weekday() < 5:\n",
    "        return 0\n",
    "    else:\n",
    "        return 1\n",
    "\n",
    "def datetime_to_night(row):\n",
    "    if row.hour < 7 or row.hour > 23:\n",
    "        return 1\n",
    "    else:\n",
    "        return 0\n",
    "    \n",
    "def heating_deg_day(row):\n",
    "    return 18 - row[\"temperature\"]\n",
    "\n",
    "def cooling_deg_day(row):\n",
    "    return row[\"temperature\"] - 18"
   ]
  },
  {
   "cell_type": "code",
   "execution_count": null,
   "metadata": {},
   "outputs": [],
   "source": [
    "weather = pd.read_csv('./load_data/Weather_YVR.csv')\n",
    "weather['date'] = pd.to_datetime(weather['date'])\n",
    "weather['datetime'] = weather.apply(weather_date_to_datetime, axis=1)\n",
    "weather.head()"
   ]
  },
  {
   "cell_type": "code",
   "execution_count": null,
   "metadata": {},
   "outputs": [],
   "source": [
    "main = []\n",
    "for i in range(28):\n",
    "    if (i + 1) == 15:\n",
    "        continue\n",
    "    df = pd.read_csv(f'./load_data/Residential_{i + 1}.csv')\n",
    "    df['date'] = pd.to_datetime(df['date'])\n",
    "    df['datetime'] = df.apply(date_to_datetime, axis=1)\n",
    "    df[\"house\"] = f\"{i + 1}\"\n",
    "    df[\"weekend\"] = df['datetime'].apply(datetime_to_weekend)\n",
    "    df['night'] = df['datetime'].apply(datetime_to_night)\n",
    "    main.append(df)\n",
    "\n",
    "main = pd.concat(main)\n",
    "main.head()"
   ]
  },
  {
   "cell_type": "code",
   "execution_count": null,
   "metadata": {},
   "outputs": [],
   "source": [
    "df = pd.merge(main, weather, how=\"left\", on=\"datetime\", suffixes=[\"\", \"_weather\"])\n",
    "df.head()"
   ]
  },
  {
   "cell_type": "code",
   "execution_count": null,
   "metadata": {},
   "outputs": [],
   "source": [
    "big_data = df[[\"night\", \"weekend\", 'hour',\"temperature\", \"energy_kWh\"]].dropna(axis=0)\n",
    "big_data"
   ]
  },
  {
   "cell_type": "code",
   "execution_count": null,
   "metadata": {},
   "outputs": [],
   "source": [
    "plot = sns.scatterplot(data=big_data.loc[big_data['hour']==12], x=\"temperature\", y=\"energy_kWh\")"
   ]
  },
  {
   "cell_type": "code",
   "execution_count": null,
   "metadata": {},
   "outputs": [],
   "source": [
    "ohe = OneHotEncoder(handle_unknown=\"ignore\", sparse_output=False).set_output(transform=\"pandas\")\n",
    "ohehour = ohe.fit_transform(big_data[[\"hour\"]])\n",
    "ohenight = ohe.fit_transform(big_data[[\"night\"]])\n",
    "oheweekend = ohe.fit_transform(big_data[[\"weekend\"]])\n",
    "ohenight_weekend = ohe.fit_transform(big_data[[\"night\", \"weekend\"]])\n",
    "ohehour_weekend = ohe.fit_transform(big_data[[\"hour\", \"weekend\"]])\n",
    "oheall = ohe.fit_transform(big_data[[\"hour\", \"night\", \"weekend\"]])"
   ]
  },
  {
   "cell_type": "code",
   "execution_count": null,
   "metadata": {},
   "outputs": [],
   "source": [
    "allDf = pd.concat([big_data, oheall], axis=1).drop(columns=[\"hour\", \"weekend\", \"night\"])\n",
    "hourDf = pd.concat([big_data, ohehour], axis=1).drop(columns=[\"hour\", \"weekend\", \"night\"])\n",
    "nightDf = pd.concat([big_data, ohenight], axis=1).drop(columns=[\"hour\", \"weekend\", \"night\"])\n",
    "weekendDf = pd.concat([big_data, oheweekend], axis=1).drop(columns=[\"hour\", \"weekend\", \"night\"])\n",
    "night_weekendDf = pd.concat([big_data, ohenight_weekend], axis=1).drop(columns=[\"hour\", \"weekend\", \"night\"])\n",
    "hour_weekendDf = pd.concat([big_data, ohehour_weekend], axis=1).drop(columns=[\"hour\", \"weekend\", \"night\"])\n",
    "allDf"
   ]
  },
  {
   "cell_type": "code",
   "execution_count": null,
   "metadata": {},
   "outputs": [],
   "source": [
    "model = LinearRegression()\n",
    "\n",
    "#hour\n",
    "train = hourDf.sample(frac=0.8, random_state=0)\n",
    "test = hourDf.drop(train.index)\n",
    "\n",
    "x_train = train.drop(columns=[\"energy_kWh\"])\n",
    "y_train = train[\"energy_kWh\"]\n",
    "\n",
    "x_test = test.drop(columns=[\"energy_kWh\"])\n",
    "y_test = test[\"energy_kWh\"]\n",
    "\n",
    "model.fit(x_train.to_numpy(), y_train.to_numpy())\n",
    "print(\"Hour only\")\n",
    "print(model.score(x_test.to_numpy(), y_test.to_numpy()))\n",
    "\n",
    "#night\n",
    "train = nightDf.sample(frac=0.8, random_state=0)\n",
    "test = nightDf.drop(train.index)\n",
    "\n",
    "x_train = train.drop(columns=[\"energy_kWh\"])\n",
    "y_train = train[\"energy_kWh\"]\n",
    "\n",
    "x_test = test.drop(columns=[\"energy_kWh\"])\n",
    "y_test = test[\"energy_kWh\"]\n",
    "\n",
    "model.fit(x_train.to_numpy(), y_train.to_numpy())\n",
    "print(\"Night only\")\n",
    "print(model.score(x_test.to_numpy(), y_test.to_numpy()))\n",
    "\n",
    "#weekend\n",
    "train = weekendDf.sample(frac=0.8, random_state=0)\n",
    "test = weekendDf.drop(train.index)\n",
    "\n",
    "x_train = train.drop(columns=[\"energy_kWh\"])\n",
    "y_train = train[\"energy_kWh\"]\n",
    "\n",
    "x_test = test.drop(columns=[\"energy_kWh\"])\n",
    "y_test = test[\"energy_kWh\"]\n",
    "\n",
    "model.fit(x_train.to_numpy(), y_train.to_numpy())\n",
    "print(\"Weekend only\")\n",
    "print(model.score(x_test.to_numpy(), y_test.to_numpy()))\n",
    "\n",
    "#Weekend + night\n",
    "train = night_weekendDf.sample(frac=0.8, random_state=0)\n",
    "test = night_weekendDf.drop(train.index)\n",
    "\n",
    "x_train = train.drop(columns=[\"energy_kWh\"])\n",
    "y_train = train[\"energy_kWh\"]\n",
    "\n",
    "x_test = test.drop(columns=[\"energy_kWh\"])\n",
    "y_test = test[\"energy_kWh\"]\n",
    "\n",
    "model.fit(x_train.to_numpy(), y_train.to_numpy())\n",
    "print(\"Weekend and night only\")\n",
    "print(model.score(x_test.to_numpy(), y_test.to_numpy()))\n",
    "\n",
    "#Hour and Weekend\n",
    "train = hour_weekendDf.sample(frac=0.8, random_state=0)\n",
    "test = hour_weekendDf.drop(train.index)\n",
    "\n",
    "x_train = train.drop(columns=[\"energy_kWh\"])\n",
    "y_train = train[\"energy_kWh\"]\n",
    "\n",
    "x_test = test.drop(columns=[\"energy_kWh\"])\n",
    "y_test = test[\"energy_kWh\"]\n",
    "\n",
    "model.fit(x_train.to_numpy(), y_train.to_numpy())\n",
    "print(\"Hour and weekend only\")\n",
    "print(model.score(x_test.to_numpy(), y_test.to_numpy()))\n",
    "\n",
    "#all\n",
    "train = allDf.sample(frac=0.8, random_state=0)\n",
    "test = allDf.drop(train.index)\n",
    "\n",
    "x_train = train.drop(columns=[\"energy_kWh\"])\n",
    "y_train = train[\"energy_kWh\"]\n",
    "\n",
    "x_test = test.drop(columns=[\"energy_kWh\"])\n",
    "y_test = test[\"energy_kWh\"]\n",
    "\n",
    "model.fit(x_train.to_numpy(), y_train.to_numpy())\n",
    "print(\"All\")\n",
    "print(model.score(x_test.to_numpy(), y_test.to_numpy()))"
   ]
  },
  {
   "cell_type": "code",
   "execution_count": null,
   "metadata": {},
   "outputs": [],
   "source": [
    "one_house = pd.read_csv(f'./load_data/Residential_11.csv')\n",
    "one_house['date'] = pd.to_datetime(one_house['date'])\n",
    "one_house['datetime'] = one_house.apply(date_to_datetime, axis=1)\n",
    "one_house[\"house\"] = f\"1\"\n",
    "one_house[\"weekend\"] = one_house['datetime'].apply(datetime_to_weekend)\n",
    "one_house['night'] = one_house['datetime'].apply(datetime_to_night)\n",
    "\n",
    "one_house = pd.merge(one_house, weather, how=\"left\", on=\"datetime\", suffixes=[\"\", \"_weather\"])\n",
    "nonan_one_house = one_house[[\"night\", \"weekend\", 'hour',\"temperature\", \"energy_kWh\"]].dropna(axis=0)\n",
    "\n",
    "one_oheall = ohe.fit_transform(nonan_one_house[[\"hour\", \"night\", \"weekend\"]])\n",
    "all_one_house = pd.concat([nonan_one_house, one_oheall], axis=1).drop(columns=[\"hour\", \"weekend\", \"night\"])\n",
    "\n",
    "input = all_one_house.drop(columns=[\"energy_kWh\"]).to_numpy()\n",
    "y_pred = model.predict(input)\n",
    "print(model.score(input, nonan_one_house[\"energy_kWh\"]))\n",
    "\n",
    "sns.scatterplot(data=nonan_one_house, x=\"temperature\", y=\"energy_kWh\")\n",
    "sns.lineplot(data=nonan_one_house, x=\"temperature\", y=y_pred, color=\"red\")"
   ]
  }
 ],
 "metadata": {
  "kernelspec": {
   "display_name": "Python 3",
   "language": "python",
   "name": "python3"
  },
  "language_info": {
   "codemirror_mode": {
    "name": "ipython",
    "version": 3
   },
   "file_extension": ".py",
   "mimetype": "text/x-python",
   "name": "python",
   "nbconvert_exporter": "python",
   "pygments_lexer": "ipython3",
   "version": "3.12.2"
  }
 },
 "nbformat": 4,
 "nbformat_minor": 2
}
